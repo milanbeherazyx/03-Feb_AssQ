{
 "cells": [
  {
   "cell_type": "code",
   "execution_count": 1,
   "id": "66d436eb-cc29-48a5-b14c-15fdffb64c5e",
   "metadata": {},
   "outputs": [
    {
     "data": {
      "text/plain": [
       "'\\nQ1. Which keyword is used to create a function? Create a function to return a list of odd numbers in the range of 1 to 25.\\n'"
      ]
     },
     "execution_count": 1,
     "metadata": {},
     "output_type": "execute_result"
    }
   ],
   "source": [
    "\"\"\"\n",
    "Q1. Which keyword is used to create a function? Create a function to return a list of odd numbers in the range of 1 to 25.\n",
    "\"\"\""
   ]
  },
  {
   "cell_type": "code",
   "execution_count": null,
   "id": "ef18ee5f-e898-4b56-a4b9-781a73656588",
   "metadata": {},
   "outputs": [],
   "source": [
    "# The def function is used to create a function."
   ]
  },
  {
   "cell_type": "code",
   "execution_count": 9,
   "id": "e8cb16b0-2fdc-4784-9fe0-221170769b75",
   "metadata": {},
   "outputs": [],
   "source": [
    "def odd_num():\n",
    "    \"\"\"  Function to return a list of odd numbers in the range of 1 to 25. \"\"\"\n",
    "    odd_lst = []\n",
    "    for i in range(0,26):\n",
    "        if i % 2 == 1:\n",
    "            odd_lst.append(i)\n",
    "    return odd_lst"
   ]
  },
  {
   "cell_type": "code",
   "execution_count": 8,
   "id": "11c356b4-96f0-46a8-a5b3-242cc3883a29",
   "metadata": {},
   "outputs": [
    {
     "data": {
      "text/plain": [
       "[1, 3, 5, 7, 9, 11, 13, 15, 17, 19, 21, 23, 25]"
      ]
     },
     "execution_count": 8,
     "metadata": {},
     "output_type": "execute_result"
    }
   ],
   "source": [
    "odd_num()"
   ]
  },
  {
   "cell_type": "code",
   "execution_count": 10,
   "id": "8492a785-658f-4375-9a29-cb205beb5248",
   "metadata": {},
   "outputs": [
    {
     "data": {
      "text/plain": [
       "'\\nQ2. Why *args and **kwargs is used in some functions? Create a function each for *args and **kwargs to demonstrate their use.\\n'"
      ]
     },
     "execution_count": 10,
     "metadata": {},
     "output_type": "execute_result"
    }
   ],
   "source": [
    "\"\"\"\n",
    "Q2. Why *args and **kwargs is used in some functions? Create a function each for *args and **kwargs to demonstrate their use.\n",
    "\"\"\""
   ]
  },
  {
   "cell_type": "code",
   "execution_count": 11,
   "id": "01ccafd0-f5a2-4f16-9f0b-7f5e6712cca6",
   "metadata": {},
   "outputs": [
    {
     "data": {
      "text/plain": [
       "\"\\nThe *args syntax allows a function to accept a variable number of non-keyword arguments. \\nWhen you use *args in a function definition, it allows you to pass any number of arguments to the function, \\nwhich will be collected into a tuple. This is useful when you don't know in advance how many arguments the user will pass to the function.\\n\""
      ]
     },
     "execution_count": 11,
     "metadata": {},
     "output_type": "execute_result"
    }
   ],
   "source": [
    "# *args\n",
    "\n",
    "\"\"\"\n",
    "The *args syntax allows a function to accept a variable number of non-keyword arguments. \n",
    "When you use *args in a function definition, it allows you to pass any number of arguments to the function, \n",
    "which will be collected into a tuple. This is useful when you don't know in advance how many arguments the user will pass to the function.\n",
    "\"\"\""
   ]
  },
  {
   "cell_type": "code",
   "execution_count": 15,
   "id": "ae1253e8-75de-443a-bcc2-61667d7efc1a",
   "metadata": {},
   "outputs": [],
   "source": [
    "def sum_numbers(*args):\n",
    "    result = 0\n",
    "    for number in args:\n",
    "        result += number\n",
    "    return result\n"
   ]
  },
  {
   "cell_type": "code",
   "execution_count": 16,
   "id": "973c775b-3e63-4d7f-bbcb-b3ba1f133c36",
   "metadata": {},
   "outputs": [
    {
     "data": {
      "text/plain": [
       "15"
      ]
     },
     "execution_count": 16,
     "metadata": {},
     "output_type": "execute_result"
    }
   ],
   "source": [
    "sum_numbers(1,2,3,4,5)"
   ]
  },
  {
   "cell_type": "code",
   "execution_count": 17,
   "id": "dff3e1bb-0100-46d4-896d-c001e75a8bf7",
   "metadata": {},
   "outputs": [
    {
     "data": {
      "text/plain": [
       "'\\nThe **kwargs syntax allows a function to accept a variable number of keyword arguments. \\nWhen you use **kwargs in a function definition, it allows you to pass any number of keyword arguments to the function, which will be collected into a dictionary. \\nThis is useful when you want to accept arguments that have specific names and values.\\n\\n'"
      ]
     },
     "execution_count": 17,
     "metadata": {},
     "output_type": "execute_result"
    }
   ],
   "source": [
    "\"\"\"\n",
    "The **kwargs syntax allows a function to accept a variable number of keyword arguments. \n",
    "When you use **kwargs in a function definition, it allows you to pass any number of keyword arguments to the function, which will be collected into a dictionary. \n",
    "This is useful when you want to accept arguments that have specific names and values.\n",
    "\n",
    "\"\"\""
   ]
  },
  {
   "cell_type": "code",
   "execution_count": 18,
   "id": "912f7c07-adef-4302-b455-ebdfd1971dfa",
   "metadata": {},
   "outputs": [],
   "source": [
    "def print_kwargs(**kwargs):\n",
    "    for key, value in kwargs.items():\n",
    "        print(f\"{key} = {value}\")\n"
   ]
  },
  {
   "cell_type": "code",
   "execution_count": 19,
   "id": "161b791b-560d-45f4-a6d5-2f97fd8cc874",
   "metadata": {},
   "outputs": [
    {
     "name": "stdout",
     "output_type": "stream",
     "text": [
      "name = Milan\n",
      "age = 28\n",
      "city = Bhubaneswar\n"
     ]
    }
   ],
   "source": [
    "print_kwargs(name=\"Milan\", age=28, city=\"Bhubaneswar\")\n",
    "# Output:\n",
    "# name = Milan\n",
    "# age = 28\n",
    "# city = Bhubaneswar\n"
   ]
  },
  {
   "cell_type": "code",
   "execution_count": 20,
   "id": "7a5cc26a-d538-4070-9beb-02910bc396de",
   "metadata": {},
   "outputs": [
    {
     "data": {
      "text/plain": [
       "'\\nQ3. What is an iterator in python? \\nName the method used to initialise the iterator object and the method used for iteration. \\nUse these methods to print the first five elements of the given list [2, 4, 6, 8, 10, 12, 14, 16, 18, 20].\\n'"
      ]
     },
     "execution_count": 20,
     "metadata": {},
     "output_type": "execute_result"
    }
   ],
   "source": [
    "\"\"\"\n",
    "Q3. What is an iterator in python? \n",
    "Name the method used to initialise the iterator object and the method used for iteration. \n",
    "Use these methods to print the first five elements of the given list [2, 4, 6, 8, 10, 12, 14, 16, 18, 20].\n",
    "\"\"\""
   ]
  },
  {
   "cell_type": "code",
   "execution_count": 21,
   "id": "267c4378-6c28-464b-a755-61e8d99b7261",
   "metadata": {},
   "outputs": [
    {
     "data": {
      "text/plain": [
       "' An iterator is an object that enables us to traverse through a sequence of values. \\nIt provides a way to access the elements of a container one at a time, without having to know the internal structure of the container.\\n'"
      ]
     },
     "execution_count": 21,
     "metadata": {},
     "output_type": "execute_result"
    }
   ],
   "source": [
    "\"\"\" An iterator is an object that enables us to traverse through a sequence of values. \n",
    "It provides a way to access the elements of a container one at a time, without having to know the internal structure of the container.\n",
    "\"\"\""
   ]
  },
  {
   "cell_type": "code",
   "execution_count": 25,
   "id": "2469543c-e9bb-4c21-9c55-ceb9e14fd69f",
   "metadata": {},
   "outputs": [
    {
     "name": "stdout",
     "output_type": "stream",
     "text": [
      "2\n",
      "4\n",
      "6\n",
      "8\n",
      "10\n"
     ]
    }
   ],
   "source": [
    "my_list = [2, 4, 6, 8, 10, 12, 14, 16, 18, 20]\n",
    "\n",
    "# Initialize the iterator object\n",
    "my_iterator = iter(my_list)\n",
    "\n",
    "# Iterate through the first five elements using a for loop\n",
    "for i in range(5):\n",
    "    print(next(my_iterator))\n"
   ]
  },
  {
   "cell_type": "code",
   "execution_count": 26,
   "id": "85067c65-c028-4d6a-9818-e99f2c044be0",
   "metadata": {},
   "outputs": [
    {
     "data": {
      "text/plain": [
       "'\\nQ4. What is a generator function in python? \\nWhy yield keyword is used? \\nGive an example of a generator function.\\n'"
      ]
     },
     "execution_count": 26,
     "metadata": {},
     "output_type": "execute_result"
    }
   ],
   "source": [
    "\"\"\"\n",
    "Q4. What is a generator function in python? \n",
    "Why yield keyword is used? \n",
    "Give an example of a generator function.\n",
    "\"\"\""
   ]
  },
  {
   "cell_type": "code",
   "execution_count": 27,
   "id": "db05c4ab-ace5-4999-b222-4b100cc80976",
   "metadata": {},
   "outputs": [
    {
     "data": {
      "text/plain": [
       "'A generator function is a special type of function that generates an iterator on-the-fly instead of returning a single value. \\nA generator function allows us to create a generator object that can be iterated over using the next() method or a for loop.\\n'"
      ]
     },
     "execution_count": 27,
     "metadata": {},
     "output_type": "execute_result"
    }
   ],
   "source": [
    "\"\"\"A generator function is a special type of function that generates an iterator on-the-fly instead of returning a single value. \n",
    "A generator function allows us to create a generator object that can be iterated over using the next() method or a for loop.\n",
    "\"\"\""
   ]
  },
  {
   "cell_type": "code",
   "execution_count": 29,
   "id": "9d7db197-d130-4932-b06b-c53cf581287e",
   "metadata": {},
   "outputs": [
    {
     "data": {
      "text/plain": [
       "\"\\n\\nThe yield keyword is used in generator functions to pause the execution of the function and return a value to the caller. \\nUnlike a regular function, which executes until it returns a value and then terminates, \\na generator function can be paused and resumed multiple times. Each time the yield keyword is encountered, \\nthe function's state is saved, and the value is returned to the caller. \\nWhen the function is called again, it resumes execution from where it left off, and the process can continue.\\n\\n\""
      ]
     },
     "execution_count": 29,
     "metadata": {},
     "output_type": "execute_result"
    }
   ],
   "source": [
    "\"\"\"\n",
    "\n",
    "The yield keyword is used in generator functions to pause the execution of the function and return a value to the caller. \n",
    "Unlike a regular function, which executes until it returns a value and then terminates, \n",
    "a generator function can be paused and resumed multiple times. Each time the yield keyword is encountered, \n",
    "the function's state is saved, and the value is returned to the caller. \n",
    "When the function is called again, it resumes execution from where it left off, and the process can continue.\n",
    "\n",
    "\"\"\""
   ]
  },
  {
   "cell_type": "code",
   "execution_count": 4,
   "id": "481d917f-8c44-43e7-bc43-5e7bfdc0e81d",
   "metadata": {},
   "outputs": [],
   "source": [
    "def fibonacci():\n",
    "    a, b = 0, 1\n",
    "    while True:\n",
    "        yield a\n",
    "        a, b = b, a + b\n"
   ]
  },
  {
   "cell_type": "code",
   "execution_count": 5,
   "id": "68ec68d4-9526-49bf-8910-7e0d53133830",
   "metadata": {},
   "outputs": [
    {
     "name": "stdout",
     "output_type": "stream",
     "text": [
      "0\n",
      "1\n",
      "1\n",
      "2\n",
      "3\n",
      "5\n",
      "8\n",
      "13\n",
      "21\n",
      "34\n"
     ]
    }
   ],
   "source": [
    "# create a generator object\n",
    "fib = fibonacci()\n",
    "\n",
    "# iterate over the generator object using a for loop\n",
    "for i in range(10):\n",
    "    print(next(fib))\n"
   ]
  },
  {
   "cell_type": "code",
   "execution_count": 7,
   "id": "3f7f7229-8c92-42dc-ade0-b974d49a8fda",
   "metadata": {},
   "outputs": [
    {
     "data": {
      "text/plain": [
       "'\\nQ5. Create a generator function for prime numbers less than 1000. Use the next() method to print the first 20 prime numbers.\\n'"
      ]
     },
     "execution_count": 7,
     "metadata": {},
     "output_type": "execute_result"
    }
   ],
   "source": [
    "\"\"\"\n",
    "Q5. Create a generator function for prime numbers less than 1000. Use the next() method to print the first 20 prime numbers.\n",
    "\"\"\""
   ]
  },
  {
   "cell_type": "code",
   "execution_count": 6,
   "id": "d8f003ae-7d16-4cb1-a8c5-1498765b3f00",
   "metadata": {},
   "outputs": [],
   "source": [
    "def primes():\n",
    "    n = 2\n",
    "    while True:\n",
    "        for i in range(2, n):\n",
    "            if n % i == 0:\n",
    "                break\n",
    "        else:\n",
    "            yield n\n",
    "        n += 1\n",
    "        if n == 1000:\n",
    "            break\n"
   ]
  },
  {
   "cell_type": "code",
   "execution_count": 8,
   "id": "004d35ce-db4e-4f43-85ef-9a9e7c1c19dc",
   "metadata": {},
   "outputs": [
    {
     "name": "stdout",
     "output_type": "stream",
     "text": [
      "2\n",
      "3\n",
      "5\n",
      "7\n",
      "11\n",
      "13\n",
      "17\n",
      "19\n",
      "23\n",
      "29\n",
      "31\n",
      "37\n",
      "41\n",
      "43\n",
      "47\n",
      "53\n",
      "59\n",
      "61\n",
      "67\n",
      "71\n"
     ]
    }
   ],
   "source": [
    "# create a generator object\n",
    "prime_gen = primes()\n",
    "\n",
    "# iterate over the first 20 prime numbers using the next() method\n",
    "for i in range(20):\n",
    "    print(next(prime_gen))\n"
   ]
  },
  {
   "cell_type": "code",
   "execution_count": 9,
   "id": "c2dea800-8a29-495d-84f7-5be602349a9c",
   "metadata": {},
   "outputs": [
    {
     "data": {
      "text/plain": [
       "'\\nQ6. Write a python program to print the first 10 Fibonacci numbers using a while loop.\\n'"
      ]
     },
     "execution_count": 9,
     "metadata": {},
     "output_type": "execute_result"
    }
   ],
   "source": [
    "\"\"\"\n",
    "Q6. Write a python program to print the first 10 Fibonacci numbers using a while loop.\n",
    "\"\"\""
   ]
  },
  {
   "cell_type": "code",
   "execution_count": 10,
   "id": "0012d625-023d-41b3-86b1-aa3f9f6c4ba8",
   "metadata": {},
   "outputs": [
    {
     "name": "stdout",
     "output_type": "stream",
     "text": [
      "0\n",
      "1\n",
      "1\n",
      "2\n",
      "3\n",
      "5\n",
      "8\n",
      "13\n",
      "21\n",
      "34\n"
     ]
    }
   ],
   "source": [
    "a, b = 0, 1\n",
    "count = 0\n",
    "\n",
    "while count < 10:\n",
    "    print(a)\n",
    "    c = a + b\n",
    "    a = b\n",
    "    b = c\n",
    "    count += 1\n"
   ]
  },
  {
   "cell_type": "code",
   "execution_count": 11,
   "id": "9e2b7f68-ef99-4076-a3d2-dd7d5540c790",
   "metadata": {},
   "outputs": [
    {
     "data": {
      "text/plain": [
       "\"\\nQ7. Write a List Comprehension to iterate through the given string: ‘pwskills’.\\nExpected output: ['p', 'w', 's', 'k', 'i', 'l', 'l', 's']\\n\""
      ]
     },
     "execution_count": 11,
     "metadata": {},
     "output_type": "execute_result"
    }
   ],
   "source": [
    "\"\"\"\n",
    "Q7. Write a List Comprehension to iterate through the given string: ‘pwskills’.\n",
    "Expected output: ['p', 'w', 's', 'k', 'i', 'l', 'l', 's']\n",
    "\"\"\""
   ]
  },
  {
   "cell_type": "code",
   "execution_count": 12,
   "id": "eb4f4ac7-ea15-4220-b3a8-13df678024e6",
   "metadata": {},
   "outputs": [
    {
     "name": "stdout",
     "output_type": "stream",
     "text": [
      "['p', 'w', 's', 'k', 'l', 'l', 's']\n"
     ]
    }
   ],
   "source": [
    "string = \"pwskills\"\n",
    "consonants = [char for char in string if char not in \"aeiou\"]\n",
    "print(consonants)\n"
   ]
  },
  {
   "cell_type": "code",
   "execution_count": 13,
   "id": "2e3c3ecd-9ba3-46c5-b7aa-fd742c2b04e6",
   "metadata": {},
   "outputs": [
    {
     "data": {
      "text/plain": [
       "'\\nQ8. Write a python program to check whether a given number is Palindrome or not using a while loop.\\n'"
      ]
     },
     "execution_count": 13,
     "metadata": {},
     "output_type": "execute_result"
    }
   ],
   "source": [
    "\"\"\"\n",
    "Q8. Write a python program to check whether a given number is Palindrome or not using a while loop.\n",
    "\"\"\""
   ]
  },
  {
   "cell_type": "code",
   "execution_count": 2,
   "id": "fbce3a66-9ff9-4a21-8360-87f19c398993",
   "metadata": {},
   "outputs": [
    {
     "name": "stdin",
     "output_type": "stream",
     "text": [
      "Enter a number:  26\n"
     ]
    },
    {
     "name": "stdout",
     "output_type": "stream",
     "text": [
      "The number is not a palindrome\n"
     ]
    }
   ],
   "source": [
    "number = int(input(\"Enter a number: \"))\n",
    "\n",
    "temp = number\n",
    "reverse = 0\n",
    "\n",
    "while temp > 0:\n",
    "    digit = temp % 10\n",
    "    reverse = reverse * 10 + digit\n",
    "    temp //= 10\n",
    "\n",
    "if number == reverse:\n",
    "    print(\"The number is a palindrome\")\n",
    "else:\n",
    "    print(\"The number is not a palindrome\")\n"
   ]
  },
  {
   "cell_type": "code",
   "execution_count": 4,
   "id": "850d5711-03c3-4554-8191-b246d4a9de23",
   "metadata": {},
   "outputs": [
    {
     "data": {
      "text/plain": [
       "'\\nQ9. Write a code to print odd numbers from 1 to 100 using list comprehension.\\n'"
      ]
     },
     "execution_count": 4,
     "metadata": {},
     "output_type": "execute_result"
    }
   ],
   "source": [
    "\"\"\"\n",
    "Q9. Write a code to print odd numbers from 1 to 100 using list comprehension.\n",
    "\"\"\""
   ]
  },
  {
   "cell_type": "code",
   "execution_count": 5,
   "id": "2c1e3dda-7186-41e7-af91-7c2ecc3879bc",
   "metadata": {},
   "outputs": [
    {
     "name": "stdout",
     "output_type": "stream",
     "text": [
      "[1, 3, 5, 7, 9, 11, 13, 15, 17, 19, 21, 23, 25, 27, 29, 31, 33, 35, 37, 39, 41, 43, 45, 47, 49, 51, 53, 55, 57, 59, 61, 63, 65, 67, 69, 71, 73, 75, 77, 79, 81, 83, 85, 87, 89, 91, 93, 95, 97, 99]\n"
     ]
    }
   ],
   "source": [
    "odd_numbers = [num for num in range(1, 101) if num % 2 != 0]\n",
    "print(odd_numbers)\n"
   ]
  },
  {
   "cell_type": "code",
   "execution_count": null,
   "id": "22a70048-a9eb-46a1-b165-32a3df737696",
   "metadata": {},
   "outputs": [],
   "source": []
  }
 ],
 "metadata": {
  "kernelspec": {
   "display_name": "Python 3 (ipykernel)",
   "language": "python",
   "name": "python3"
  },
  "language_info": {
   "codemirror_mode": {
    "name": "ipython",
    "version": 3
   },
   "file_extension": ".py",
   "mimetype": "text/x-python",
   "name": "python",
   "nbconvert_exporter": "python",
   "pygments_lexer": "ipython3",
   "version": "3.10.8"
  }
 },
 "nbformat": 4,
 "nbformat_minor": 5
}
